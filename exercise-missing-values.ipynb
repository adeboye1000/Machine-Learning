{
 "cells": [
  {
   "cell_type": "markdown",
   "id": "1d861bf9",
   "metadata": {
    "papermill": {
     "duration": 0.034808,
     "end_time": "2022-02-22T15:14:08.862626",
     "exception": false,
     "start_time": "2022-02-22T15:14:08.827818",
     "status": "completed"
    },
    "tags": []
   },
   "source": [
    "**This notebook is an exercise in the [Intermediate Machine Learning](https://www.kaggle.com/learn/intermediate-machine-learning) course.  You can reference the tutorial at [this link](https://www.kaggle.com/alexisbcook/missing-values).**\n",
    "\n",
    "---\n"
   ]
  },
  {
   "cell_type": "markdown",
   "id": "b1f8661e",
   "metadata": {
    "papermill": {
     "duration": 0.035276,
     "end_time": "2022-02-22T15:14:08.933010",
     "exception": false,
     "start_time": "2022-02-22T15:14:08.897734",
     "status": "completed"
    },
    "tags": []
   },
   "source": [
    "Now it's your turn to test your new knowledge of **missing values** handling. You'll probably find it makes a big difference.\n",
    "\n",
    "# Setup\n",
    "\n",
    "The questions will give you feedback on your work. Run the following cell to set up the feedback system."
   ]
  },
  {
   "cell_type": "code",
   "execution_count": 1,
   "id": "3be1edef",
   "metadata": {
    "execution": {
     "iopub.execute_input": "2022-02-22T15:14:09.009124Z",
     "iopub.status.busy": "2022-02-22T15:14:09.007894Z",
     "iopub.status.idle": "2022-02-22T15:14:09.059089Z",
     "shell.execute_reply": "2022-02-22T15:14:09.059857Z",
     "shell.execute_reply.started": "2021-10-01T20:52:58.645186Z"
    },
    "papermill": {
     "duration": 0.092572,
     "end_time": "2022-02-22T15:14:09.060272",
     "exception": false,
     "start_time": "2022-02-22T15:14:08.967700",
     "status": "completed"
    },
    "tags": []
   },
   "outputs": [
    {
     "name": "stdout",
     "output_type": "stream",
     "text": [
      "Setup Complete\n"
     ]
    }
   ],
   "source": [
    "# Set up code checking\n",
    "import os\n",
    "if not os.path.exists(\"../input/train.csv\"):\n",
    "    os.symlink(\"../input/home-data-for-ml-course/train.csv\", \"../input/train.csv\")  \n",
    "    os.symlink(\"../input/home-data-for-ml-course/test.csv\", \"../input/test.csv\") \n",
    "from learntools.core import binder\n",
    "binder.bind(globals())\n",
    "from learntools.ml_intermediate.ex2 import *\n",
    "print(\"Setup Complete\")"
   ]
  },
  {
   "cell_type": "markdown",
   "id": "1a488b08",
   "metadata": {
    "papermill": {
     "duration": 0.034386,
     "end_time": "2022-02-22T15:14:09.129864",
     "exception": false,
     "start_time": "2022-02-22T15:14:09.095478",
     "status": "completed"
    },
    "tags": []
   },
   "source": [
    "In this exercise, you will work with data from the [Housing Prices Competition for Kaggle Learn Users](https://www.kaggle.com/c/home-data-for-ml-course). \n",
    "\n",
    "![Ames Housing dataset image](https://i.imgur.com/lTJVG4e.png)\n",
    "\n",
    "Run the next code cell without changes to load the training and validation sets in `X_train`, `X_valid`, `y_train`, and `y_valid`.  The test set is loaded in `X_test`."
   ]
  },
  {
   "cell_type": "code",
   "execution_count": 2,
   "id": "93bfa76a",
   "metadata": {
    "execution": {
     "iopub.execute_input": "2022-02-22T15:14:09.204804Z",
     "iopub.status.busy": "2022-02-22T15:14:09.203768Z",
     "iopub.status.idle": "2022-02-22T15:14:10.487188Z",
     "shell.execute_reply": "2022-02-22T15:14:10.486313Z",
     "shell.execute_reply.started": "2021-10-01T20:52:58.718704Z"
    },
    "papermill": {
     "duration": 1.321995,
     "end_time": "2022-02-22T15:14:10.487338",
     "exception": false,
     "start_time": "2022-02-22T15:14:09.165343",
     "status": "completed"
    },
    "tags": []
   },
   "outputs": [],
   "source": [
    "import pandas as pd\n",
    "from sklearn.model_selection import train_test_split\n",
    "\n",
    "# Read the data\n",
    "X_full = pd.read_csv('../input/train.csv', index_col='Id')\n",
    "X_test_full = pd.read_csv('../input/test.csv', index_col='Id')\n",
    "\n",
    "# Remove rows with missing target, separate target from predictors\n",
    "X_full.dropna(axis=0, subset=['SalePrice'], inplace=True)\n",
    "y = X_full.SalePrice\n",
    "X_full.drop(['SalePrice'], axis=1, inplace=True)\n",
    "\n",
    "# To keep things simple, we'll use only numerical predictors\n",
    "X = X_full.select_dtypes(exclude=['object'])\n",
    "X_test = X_test_full.select_dtypes(exclude=['object'])\n",
    "\n",
    "# Break off validation set from training data\n",
    "X_train, X_valid, y_train, y_valid = train_test_split(X, y, train_size=0.8, test_size=0.2,\n",
    "                                                      random_state=0)"
   ]
  },
  {
   "cell_type": "markdown",
   "id": "e3aa6e75",
   "metadata": {
    "papermill": {
     "duration": 0.03522,
     "end_time": "2022-02-22T15:14:10.556919",
     "exception": false,
     "start_time": "2022-02-22T15:14:10.521699",
     "status": "completed"
    },
    "tags": []
   },
   "source": [
    "Use the next code cell to print the first five rows of the data."
   ]
  },
  {
   "cell_type": "code",
   "execution_count": 3,
   "id": "373bb2c3",
   "metadata": {
    "execution": {
     "iopub.execute_input": "2022-02-22T15:14:10.629751Z",
     "iopub.status.busy": "2022-02-22T15:14:10.628755Z",
     "iopub.status.idle": "2022-02-22T15:14:10.658211Z",
     "shell.execute_reply": "2022-02-22T15:14:10.658715Z",
     "shell.execute_reply.started": "2021-10-01T20:53:03.923789Z"
    },
    "papermill": {
     "duration": 0.067719,
     "end_time": "2022-02-22T15:14:10.658882",
     "exception": false,
     "start_time": "2022-02-22T15:14:10.591163",
     "status": "completed"
    },
    "tags": []
   },
   "outputs": [
    {
     "data": {
      "text/html": [
       "<div>\n",
       "<style scoped>\n",
       "    .dataframe tbody tr th:only-of-type {\n",
       "        vertical-align: middle;\n",
       "    }\n",
       "\n",
       "    .dataframe tbody tr th {\n",
       "        vertical-align: top;\n",
       "    }\n",
       "\n",
       "    .dataframe thead th {\n",
       "        text-align: right;\n",
       "    }\n",
       "</style>\n",
       "<table border=\"1\" class=\"dataframe\">\n",
       "  <thead>\n",
       "    <tr style=\"text-align: right;\">\n",
       "      <th></th>\n",
       "      <th>MSSubClass</th>\n",
       "      <th>LotFrontage</th>\n",
       "      <th>LotArea</th>\n",
       "      <th>OverallQual</th>\n",
       "      <th>OverallCond</th>\n",
       "      <th>YearBuilt</th>\n",
       "      <th>YearRemodAdd</th>\n",
       "      <th>MasVnrArea</th>\n",
       "      <th>BsmtFinSF1</th>\n",
       "      <th>BsmtFinSF2</th>\n",
       "      <th>...</th>\n",
       "      <th>GarageArea</th>\n",
       "      <th>WoodDeckSF</th>\n",
       "      <th>OpenPorchSF</th>\n",
       "      <th>EnclosedPorch</th>\n",
       "      <th>3SsnPorch</th>\n",
       "      <th>ScreenPorch</th>\n",
       "      <th>PoolArea</th>\n",
       "      <th>MiscVal</th>\n",
       "      <th>MoSold</th>\n",
       "      <th>YrSold</th>\n",
       "    </tr>\n",
       "    <tr>\n",
       "      <th>Id</th>\n",
       "      <th></th>\n",
       "      <th></th>\n",
       "      <th></th>\n",
       "      <th></th>\n",
       "      <th></th>\n",
       "      <th></th>\n",
       "      <th></th>\n",
       "      <th></th>\n",
       "      <th></th>\n",
       "      <th></th>\n",
       "      <th></th>\n",
       "      <th></th>\n",
       "      <th></th>\n",
       "      <th></th>\n",
       "      <th></th>\n",
       "      <th></th>\n",
       "      <th></th>\n",
       "      <th></th>\n",
       "      <th></th>\n",
       "      <th></th>\n",
       "      <th></th>\n",
       "    </tr>\n",
       "  </thead>\n",
       "  <tbody>\n",
       "    <tr>\n",
       "      <th>619</th>\n",
       "      <td>20</td>\n",
       "      <td>90.0</td>\n",
       "      <td>11694</td>\n",
       "      <td>9</td>\n",
       "      <td>5</td>\n",
       "      <td>2007</td>\n",
       "      <td>2007</td>\n",
       "      <td>452.0</td>\n",
       "      <td>48</td>\n",
       "      <td>0</td>\n",
       "      <td>...</td>\n",
       "      <td>774</td>\n",
       "      <td>0</td>\n",
       "      <td>108</td>\n",
       "      <td>0</td>\n",
       "      <td>0</td>\n",
       "      <td>260</td>\n",
       "      <td>0</td>\n",
       "      <td>0</td>\n",
       "      <td>7</td>\n",
       "      <td>2007</td>\n",
       "    </tr>\n",
       "    <tr>\n",
       "      <th>871</th>\n",
       "      <td>20</td>\n",
       "      <td>60.0</td>\n",
       "      <td>6600</td>\n",
       "      <td>5</td>\n",
       "      <td>5</td>\n",
       "      <td>1962</td>\n",
       "      <td>1962</td>\n",
       "      <td>0.0</td>\n",
       "      <td>0</td>\n",
       "      <td>0</td>\n",
       "      <td>...</td>\n",
       "      <td>308</td>\n",
       "      <td>0</td>\n",
       "      <td>0</td>\n",
       "      <td>0</td>\n",
       "      <td>0</td>\n",
       "      <td>0</td>\n",
       "      <td>0</td>\n",
       "      <td>0</td>\n",
       "      <td>8</td>\n",
       "      <td>2009</td>\n",
       "    </tr>\n",
       "    <tr>\n",
       "      <th>93</th>\n",
       "      <td>30</td>\n",
       "      <td>80.0</td>\n",
       "      <td>13360</td>\n",
       "      <td>5</td>\n",
       "      <td>7</td>\n",
       "      <td>1921</td>\n",
       "      <td>2006</td>\n",
       "      <td>0.0</td>\n",
       "      <td>713</td>\n",
       "      <td>0</td>\n",
       "      <td>...</td>\n",
       "      <td>432</td>\n",
       "      <td>0</td>\n",
       "      <td>0</td>\n",
       "      <td>44</td>\n",
       "      <td>0</td>\n",
       "      <td>0</td>\n",
       "      <td>0</td>\n",
       "      <td>0</td>\n",
       "      <td>8</td>\n",
       "      <td>2009</td>\n",
       "    </tr>\n",
       "    <tr>\n",
       "      <th>818</th>\n",
       "      <td>20</td>\n",
       "      <td>NaN</td>\n",
       "      <td>13265</td>\n",
       "      <td>8</td>\n",
       "      <td>5</td>\n",
       "      <td>2002</td>\n",
       "      <td>2002</td>\n",
       "      <td>148.0</td>\n",
       "      <td>1218</td>\n",
       "      <td>0</td>\n",
       "      <td>...</td>\n",
       "      <td>857</td>\n",
       "      <td>150</td>\n",
       "      <td>59</td>\n",
       "      <td>0</td>\n",
       "      <td>0</td>\n",
       "      <td>0</td>\n",
       "      <td>0</td>\n",
       "      <td>0</td>\n",
       "      <td>7</td>\n",
       "      <td>2008</td>\n",
       "    </tr>\n",
       "    <tr>\n",
       "      <th>303</th>\n",
       "      <td>20</td>\n",
       "      <td>118.0</td>\n",
       "      <td>13704</td>\n",
       "      <td>7</td>\n",
       "      <td>5</td>\n",
       "      <td>2001</td>\n",
       "      <td>2002</td>\n",
       "      <td>150.0</td>\n",
       "      <td>0</td>\n",
       "      <td>0</td>\n",
       "      <td>...</td>\n",
       "      <td>843</td>\n",
       "      <td>468</td>\n",
       "      <td>81</td>\n",
       "      <td>0</td>\n",
       "      <td>0</td>\n",
       "      <td>0</td>\n",
       "      <td>0</td>\n",
       "      <td>0</td>\n",
       "      <td>1</td>\n",
       "      <td>2006</td>\n",
       "    </tr>\n",
       "  </tbody>\n",
       "</table>\n",
       "<p>5 rows × 36 columns</p>\n",
       "</div>"
      ],
      "text/plain": [
       "     MSSubClass  LotFrontage  LotArea  OverallQual  OverallCond  YearBuilt  \\\n",
       "Id                                                                           \n",
       "619          20         90.0    11694            9            5       2007   \n",
       "871          20         60.0     6600            5            5       1962   \n",
       "93           30         80.0    13360            5            7       1921   \n",
       "818          20          NaN    13265            8            5       2002   \n",
       "303          20        118.0    13704            7            5       2001   \n",
       "\n",
       "     YearRemodAdd  MasVnrArea  BsmtFinSF1  BsmtFinSF2  ...  GarageArea  \\\n",
       "Id                                                     ...               \n",
       "619          2007       452.0          48           0  ...         774   \n",
       "871          1962         0.0           0           0  ...         308   \n",
       "93           2006         0.0         713           0  ...         432   \n",
       "818          2002       148.0        1218           0  ...         857   \n",
       "303          2002       150.0           0           0  ...         843   \n",
       "\n",
       "     WoodDeckSF  OpenPorchSF  EnclosedPorch  3SsnPorch  ScreenPorch  PoolArea  \\\n",
       "Id                                                                              \n",
       "619           0          108              0          0          260         0   \n",
       "871           0            0              0          0            0         0   \n",
       "93            0            0             44          0            0         0   \n",
       "818         150           59              0          0            0         0   \n",
       "303         468           81              0          0            0         0   \n",
       "\n",
       "     MiscVal  MoSold  YrSold  \n",
       "Id                            \n",
       "619        0       7    2007  \n",
       "871        0       8    2009  \n",
       "93         0       8    2009  \n",
       "818        0       7    2008  \n",
       "303        0       1    2006  \n",
       "\n",
       "[5 rows x 36 columns]"
      ]
     },
     "execution_count": 3,
     "metadata": {},
     "output_type": "execute_result"
    }
   ],
   "source": [
    "X_train.head()"
   ]
  },
  {
   "cell_type": "markdown",
   "id": "1fce8cde",
   "metadata": {
    "papermill": {
     "duration": 0.03437,
     "end_time": "2022-02-22T15:14:10.727881",
     "exception": false,
     "start_time": "2022-02-22T15:14:10.693511",
     "status": "completed"
    },
    "tags": []
   },
   "source": [
    "You can already see a few missing values in the first several rows.  In the next step, you'll obtain a more comprehensive understanding of the missing values in the dataset.\n",
    "\n",
    "# Step 1: Preliminary investigation\n",
    "\n",
    "Run the code cell below without changes."
   ]
  },
  {
   "cell_type": "code",
   "execution_count": 4,
   "id": "d51d8f4e",
   "metadata": {
    "execution": {
     "iopub.execute_input": "2022-02-22T15:14:10.802194Z",
     "iopub.status.busy": "2022-02-22T15:14:10.801185Z",
     "iopub.status.idle": "2022-02-22T15:14:10.810613Z",
     "shell.execute_reply": "2022-02-22T15:14:10.809946Z",
     "shell.execute_reply.started": "2021-10-01T20:53:12.011007Z"
    },
    "papermill": {
     "duration": 0.047514,
     "end_time": "2022-02-22T15:14:10.810762",
     "exception": false,
     "start_time": "2022-02-22T15:14:10.763248",
     "status": "completed"
    },
    "tags": []
   },
   "outputs": [
    {
     "name": "stdout",
     "output_type": "stream",
     "text": [
      "(1168, 36)\n",
      "LotFrontage    212\n",
      "MasVnrArea       6\n",
      "GarageYrBlt     58\n",
      "dtype: int64\n"
     ]
    }
   ],
   "source": [
    "# Shape of training data (num_rows, num_columns)\n",
    "print(X_train.shape)\n",
    "\n",
    "# Number of missing values in each column of training data\n",
    "missing_val_count_by_column = (X_train.isnull().sum())\n",
    "print(missing_val_count_by_column[missing_val_count_by_column > 0])"
   ]
  },
  {
   "cell_type": "markdown",
   "id": "d170aebe",
   "metadata": {
    "papermill": {
     "duration": 0.034694,
     "end_time": "2022-02-22T15:14:10.880754",
     "exception": false,
     "start_time": "2022-02-22T15:14:10.846060",
     "status": "completed"
    },
    "tags": []
   },
   "source": [
    "### Part A\n",
    "\n",
    "Use the above output to answer the questions below."
   ]
  },
  {
   "cell_type": "code",
   "execution_count": 5,
   "id": "10769f94",
   "metadata": {
    "execution": {
     "iopub.execute_input": "2022-02-22T15:14:10.958546Z",
     "iopub.status.busy": "2022-02-22T15:14:10.957808Z",
     "iopub.status.idle": "2022-02-22T15:14:10.961864Z",
     "shell.execute_reply": "2022-02-22T15:14:10.962390Z",
     "shell.execute_reply.started": "2021-10-01T20:54:20.148315Z"
    },
    "papermill": {
     "duration": 0.045742,
     "end_time": "2022-02-22T15:14:10.962565",
     "exception": false,
     "start_time": "2022-02-22T15:14:10.916823",
     "status": "completed"
    },
    "tags": []
   },
   "outputs": [
    {
     "data": {
      "application/javascript": [
       "parent.postMessage({\"jupyterEvent\": \"custom.exercise_interaction\", \"data\": {\"outcomeType\": 1, \"valueTowardsCompletion\": 1.0, \"interactionType\": 1, \"questionType\": 1, \"questionId\": \"1.1_InvestigateEquality\", \"learnToolsVersion\": \"0.3.4\", \"failureMessage\": \"\", \"exceptionClass\": \"\", \"trace\": \"\"}}, \"*\")"
      ],
      "text/plain": [
       "<IPython.core.display.Javascript object>"
      ]
     },
     "metadata": {},
     "output_type": "display_data"
    },
    {
     "data": {
      "text/markdown": [
       "<span style=\"color:#33cc33\">Correct</span>"
      ],
      "text/plain": [
       "Correct"
      ]
     },
     "metadata": {},
     "output_type": "display_data"
    }
   ],
   "source": [
    "# Fill in the line below: How many rows are in the training data?\n",
    "num_rows = 1168\n",
    "\n",
    "# Fill in the line below: How many columns in the training data\n",
    "# have missing values?\n",
    "num_cols_with_missing = 3\n",
    "\n",
    "# Fill in the line below: How many missing entries are contained in \n",
    "# all of the training data?\n",
    "tot_missing = 276\n",
    "\n",
    "# Check your answers\n",
    "step_1.a.check()"
   ]
  },
  {
   "cell_type": "code",
   "execution_count": 6,
   "id": "b3f8d782",
   "metadata": {
    "execution": {
     "iopub.execute_input": "2022-02-22T15:14:11.046178Z",
     "iopub.status.busy": "2022-02-22T15:14:11.045440Z",
     "iopub.status.idle": "2022-02-22T15:14:11.048348Z",
     "shell.execute_reply": "2022-02-22T15:14:11.047840Z"
    },
    "papermill": {
     "duration": 0.04704,
     "end_time": "2022-02-22T15:14:11.048506",
     "exception": false,
     "start_time": "2022-02-22T15:14:11.001466",
     "status": "completed"
    },
    "tags": []
   },
   "outputs": [],
   "source": [
    "# Lines below will give you a hint or solution code\n",
    "#step_1.a.hint()\n",
    "#step_1.a.solution()"
   ]
  },
  {
   "cell_type": "markdown",
   "id": "0e7ca0e3",
   "metadata": {
    "papermill": {
     "duration": 0.037687,
     "end_time": "2022-02-22T15:14:11.124310",
     "exception": false,
     "start_time": "2022-02-22T15:14:11.086623",
     "status": "completed"
    },
    "tags": []
   },
   "source": [
    "### Part B\n",
    "Considering your answers above, what do you think is likely the best approach to dealing with the missing values?"
   ]
  },
  {
   "cell_type": "code",
   "execution_count": 7,
   "id": "bec5b0a1",
   "metadata": {
    "execution": {
     "iopub.execute_input": "2022-02-22T15:14:11.208831Z",
     "iopub.status.busy": "2022-02-22T15:14:11.207982Z",
     "iopub.status.idle": "2022-02-22T15:14:11.213893Z",
     "shell.execute_reply": "2022-02-22T15:14:11.214619Z"
    },
    "papermill": {
     "duration": 0.049051,
     "end_time": "2022-02-22T15:14:11.214837",
     "exception": false,
     "start_time": "2022-02-22T15:14:11.165786",
     "status": "completed"
    },
    "tags": []
   },
   "outputs": [
    {
     "data": {
      "application/javascript": [
       "parent.postMessage({\"jupyterEvent\": \"custom.exercise_interaction\", \"data\": {\"outcomeType\": 1, \"valueTowardsCompletion\": 1.0, \"interactionType\": 1, \"questionType\": 4, \"questionId\": \"1.2_InvestigateThought\", \"learnToolsVersion\": \"0.3.4\", \"failureMessage\": \"\", \"exceptionClass\": \"\", \"trace\": \"\"}}, \"*\")"
      ],
      "text/plain": [
       "<IPython.core.display.Javascript object>"
      ]
     },
     "metadata": {},
     "output_type": "display_data"
    },
    {
     "data": {
      "text/markdown": [
       "<span style=\"color:#33cc33\">Correct:</span> \n",
       "\n",
       "Since there are relatively few missing entries in the data (the column with the greatest percentage of missing values is missing less than 20% of its entries), we can expect that dropping columns is unlikely to yield good results.  This is because we'd be throwing away a lot of valuable data, and so imputation will likely perform better."
      ],
      "text/plain": [
       "Correct: \n",
       "\n",
       "Since there are relatively few missing entries in the data (the column with the greatest percentage of missing values is missing less than 20% of its entries), we can expect that dropping columns is unlikely to yield good results.  This is because we'd be throwing away a lot of valuable data, and so imputation will likely perform better."
      ]
     },
     "metadata": {},
     "output_type": "display_data"
    }
   ],
   "source": [
    "# Check your answer (Run this code cell to receive credit!)\n",
    "step_1.b.check()"
   ]
  },
  {
   "cell_type": "code",
   "execution_count": 8,
   "id": "8af92865",
   "metadata": {
    "execution": {
     "iopub.execute_input": "2022-02-22T15:14:11.298665Z",
     "iopub.status.busy": "2022-02-22T15:14:11.297987Z",
     "iopub.status.idle": "2022-02-22T15:14:11.301244Z",
     "shell.execute_reply": "2022-02-22T15:14:11.301755Z"
    },
    "papermill": {
     "duration": 0.047616,
     "end_time": "2022-02-22T15:14:11.301928",
     "exception": false,
     "start_time": "2022-02-22T15:14:11.254312",
     "status": "completed"
    },
    "tags": []
   },
   "outputs": [],
   "source": [
    "#step_1.b.hint()"
   ]
  },
  {
   "cell_type": "markdown",
   "id": "dc0f4a17",
   "metadata": {
    "papermill": {
     "duration": 0.039118,
     "end_time": "2022-02-22T15:14:11.379810",
     "exception": false,
     "start_time": "2022-02-22T15:14:11.340692",
     "status": "completed"
    },
    "tags": []
   },
   "source": [
    "To compare different approaches to dealing with missing values, you'll use the same `score_dataset()` function from the tutorial.  This function reports the [mean absolute error](https://en.wikipedia.org/wiki/Mean_absolute_error) (MAE) from a random forest model."
   ]
  },
  {
   "cell_type": "code",
   "execution_count": 9,
   "id": "231774b0",
   "metadata": {
    "execution": {
     "iopub.execute_input": "2022-02-22T15:14:11.459565Z",
     "iopub.status.busy": "2022-02-22T15:14:11.458871Z",
     "iopub.status.idle": "2022-02-22T15:14:11.667616Z",
     "shell.execute_reply": "2022-02-22T15:14:11.667019Z",
     "shell.execute_reply.started": "2021-10-01T20:54:32.964408Z"
    },
    "papermill": {
     "duration": 0.24919,
     "end_time": "2022-02-22T15:14:11.667778",
     "exception": false,
     "start_time": "2022-02-22T15:14:11.418588",
     "status": "completed"
    },
    "tags": []
   },
   "outputs": [],
   "source": [
    "from sklearn.ensemble import RandomForestRegressor\n",
    "from sklearn.metrics import mean_absolute_error\n",
    "\n",
    "# Function for comparing different approaches\n",
    "def score_dataset(X_train, X_valid, y_train, y_valid):\n",
    "    model = RandomForestRegressor(n_estimators=100, random_state=0)\n",
    "    model.fit(X_train, y_train)\n",
    "    preds = model.predict(X_valid)\n",
    "    return mean_absolute_error(y_valid, preds)"
   ]
  },
  {
   "cell_type": "markdown",
   "id": "0aebfa87",
   "metadata": {
    "papermill": {
     "duration": 0.038211,
     "end_time": "2022-02-22T15:14:11.745116",
     "exception": false,
     "start_time": "2022-02-22T15:14:11.706905",
     "status": "completed"
    },
    "tags": []
   },
   "source": [
    "# Step 2: Drop columns with missing values\n",
    "\n",
    "In this step, you'll preprocess the data in `X_train` and `X_valid` to remove columns with missing values.  Set the preprocessed DataFrames to `reduced_X_train` and `reduced_X_valid`, respectively.  "
   ]
  },
  {
   "cell_type": "code",
   "execution_count": 10,
   "id": "86be6b89",
   "metadata": {
    "execution": {
     "iopub.execute_input": "2022-02-22T15:14:11.828902Z",
     "iopub.status.busy": "2022-02-22T15:14:11.828243Z",
     "iopub.status.idle": "2022-02-22T15:14:11.853148Z",
     "shell.execute_reply": "2022-02-22T15:14:11.853603Z",
     "shell.execute_reply.started": "2021-10-01T21:04:23.424723Z"
    },
    "papermill": {
     "duration": 0.070729,
     "end_time": "2022-02-22T15:14:11.853776",
     "exception": false,
     "start_time": "2022-02-22T15:14:11.783047",
     "status": "completed"
    },
    "tags": []
   },
   "outputs": [
    {
     "data": {
      "application/javascript": [
       "parent.postMessage({\"jupyterEvent\": \"custom.exercise_interaction\", \"data\": {\"outcomeType\": 1, \"valueTowardsCompletion\": 1.0, \"interactionType\": 1, \"questionType\": 2, \"questionId\": \"2_DropMissing\", \"learnToolsVersion\": \"0.3.4\", \"failureMessage\": \"\", \"exceptionClass\": \"\", \"trace\": \"\"}}, \"*\")"
      ],
      "text/plain": [
       "<IPython.core.display.Javascript object>"
      ]
     },
     "metadata": {},
     "output_type": "display_data"
    },
    {
     "data": {
      "text/markdown": [
       "<span style=\"color:#33cc33\">Correct</span>"
      ],
      "text/plain": [
       "Correct"
      ]
     },
     "metadata": {},
     "output_type": "display_data"
    }
   ],
   "source": [
    "# Fill in the line below: get names of columns with missing values\n",
    "columns_with_missing_values = [i for i in X_train.columns if X_train[i].isnull().any()]# Your code here\n",
    "\n",
    "# Fill in the lines below: drop columns in training and validation data\n",
    "reduced_X_train = X_train.drop(columns_with_missing_values, axis = 1)\n",
    "reduced_X_valid = X_valid.drop(columns_with_missing_values, axis =1)\n",
    "\n",
    "# Check your answers\n",
    "step_2.check()"
   ]
  },
  {
   "cell_type": "code",
   "execution_count": 11,
   "id": "291f8942",
   "metadata": {
    "execution": {
     "iopub.execute_input": "2022-02-22T15:14:11.937167Z",
     "iopub.status.busy": "2022-02-22T15:14:11.936528Z",
     "iopub.status.idle": "2022-02-22T15:14:11.940068Z",
     "shell.execute_reply": "2022-02-22T15:14:11.940626Z"
    },
    "papermill": {
     "duration": 0.047283,
     "end_time": "2022-02-22T15:14:11.940793",
     "exception": false,
     "start_time": "2022-02-22T15:14:11.893510",
     "status": "completed"
    },
    "tags": []
   },
   "outputs": [],
   "source": [
    "# Lines below will give you a hint or solution code\n",
    "#step_2.hint()\n",
    "#step_2.solution()"
   ]
  },
  {
   "cell_type": "markdown",
   "id": "fe5b959f",
   "metadata": {
    "papermill": {
     "duration": 0.040037,
     "end_time": "2022-02-22T15:14:12.022406",
     "exception": false,
     "start_time": "2022-02-22T15:14:11.982369",
     "status": "completed"
    },
    "tags": []
   },
   "source": [
    "Run the next code cell without changes to obtain the MAE for this approach."
   ]
  },
  {
   "cell_type": "code",
   "execution_count": 12,
   "id": "e7fb7c5a",
   "metadata": {
    "execution": {
     "iopub.execute_input": "2022-02-22T15:14:12.109609Z",
     "iopub.status.busy": "2022-02-22T15:14:12.108459Z",
     "iopub.status.idle": "2022-02-22T15:14:13.336507Z",
     "shell.execute_reply": "2022-02-22T15:14:13.337036Z",
     "shell.execute_reply.started": "2021-10-01T21:05:02.270142Z"
    },
    "papermill": {
     "duration": 1.272892,
     "end_time": "2022-02-22T15:14:13.337255",
     "exception": false,
     "start_time": "2022-02-22T15:14:12.064363",
     "status": "completed"
    },
    "tags": []
   },
   "outputs": [
    {
     "name": "stdout",
     "output_type": "stream",
     "text": [
      "MAE (Drop columns with missing values):\n",
      "17837.82570776256\n"
     ]
    }
   ],
   "source": [
    "print(\"MAE (Drop columns with missing values):\")\n",
    "print(score_dataset(reduced_X_train, reduced_X_valid, y_train, y_valid))"
   ]
  },
  {
   "cell_type": "markdown",
   "id": "7c96ee52",
   "metadata": {
    "papermill": {
     "duration": 0.039979,
     "end_time": "2022-02-22T15:14:13.417560",
     "exception": false,
     "start_time": "2022-02-22T15:14:13.377581",
     "status": "completed"
    },
    "tags": []
   },
   "source": [
    "# Step 3: Imputation\n",
    "\n",
    "### Part A\n",
    "\n",
    "Use the next code cell to impute missing values with the mean value along each column.  Set the preprocessed DataFrames to `imputed_X_train` and `imputed_X_valid`.  Make sure that the column names match those in `X_train` and `X_valid`."
   ]
  },
  {
   "cell_type": "code",
   "execution_count": 13,
   "id": "54222dc1",
   "metadata": {
    "execution": {
     "iopub.execute_input": "2022-02-22T15:14:13.502080Z",
     "iopub.status.busy": "2022-02-22T15:14:13.501040Z",
     "iopub.status.idle": "2022-02-22T15:14:13.544240Z",
     "shell.execute_reply": "2022-02-22T15:14:13.543472Z",
     "shell.execute_reply.started": "2021-10-01T21:08:51.095865Z"
    },
    "papermill": {
     "duration": 0.086493,
     "end_time": "2022-02-22T15:14:13.544399",
     "exception": false,
     "start_time": "2022-02-22T15:14:13.457906",
     "status": "completed"
    },
    "tags": []
   },
   "outputs": [
    {
     "data": {
      "application/javascript": [
       "parent.postMessage({\"jupyterEvent\": \"custom.exercise_interaction\", \"data\": {\"outcomeType\": 1, \"valueTowardsCompletion\": 1.0, \"interactionType\": 1, \"questionType\": 2, \"questionId\": \"3.1_ImputeCode\", \"learnToolsVersion\": \"0.3.4\", \"failureMessage\": \"\", \"exceptionClass\": \"\", \"trace\": \"\"}}, \"*\")"
      ],
      "text/plain": [
       "<IPython.core.display.Javascript object>"
      ]
     },
     "metadata": {},
     "output_type": "display_data"
    },
    {
     "data": {
      "text/markdown": [
       "<span style=\"color:#33cc33\">Correct</span>"
      ],
      "text/plain": [
       "Correct"
      ]
     },
     "metadata": {},
     "output_type": "display_data"
    }
   ],
   "source": [
    "from sklearn.impute import SimpleImputer\n",
    "\n",
    "# Fill in the lines below: imputation\n",
    "Imputer = SimpleImputer()# Your code here\n",
    "imputed_X_train = pd.DataFrame(Imputer.fit_transform(X_train))\n",
    "imputed_X_valid = pd.DataFrame(Imputer.transform(X_valid))\n",
    "\n",
    "# Fill in the lines below: imputation removed column names; put them back\n",
    "imputed_X_train.columns = X_train.columns\n",
    "imputed_X_valid.columns = X_valid.columns\n",
    "\n",
    "# Check your answers\n",
    "step_3.a.check()"
   ]
  },
  {
   "cell_type": "code",
   "execution_count": 14,
   "id": "4743408c",
   "metadata": {
    "execution": {
     "iopub.execute_input": "2022-02-22T15:14:13.637707Z",
     "iopub.status.busy": "2022-02-22T15:14:13.637011Z",
     "iopub.status.idle": "2022-02-22T15:14:13.640169Z",
     "shell.execute_reply": "2022-02-22T15:14:13.639614Z"
    },
    "papermill": {
     "duration": 0.049865,
     "end_time": "2022-02-22T15:14:13.640319",
     "exception": false,
     "start_time": "2022-02-22T15:14:13.590454",
     "status": "completed"
    },
    "tags": []
   },
   "outputs": [],
   "source": [
    "# Lines below will give you a hint or solution code\n",
    "#step_3.a.hint()\n",
    "#step_3.a.solution()"
   ]
  },
  {
   "cell_type": "markdown",
   "id": "e2de1fa3",
   "metadata": {
    "papermill": {
     "duration": 0.042416,
     "end_time": "2022-02-22T15:14:13.725857",
     "exception": false,
     "start_time": "2022-02-22T15:14:13.683441",
     "status": "completed"
    },
    "tags": []
   },
   "source": [
    "Run the next code cell without changes to obtain the MAE for this approach."
   ]
  },
  {
   "cell_type": "code",
   "execution_count": 15,
   "id": "3f0588bb",
   "metadata": {
    "execution": {
     "iopub.execute_input": "2022-02-22T15:14:13.818527Z",
     "iopub.status.busy": "2022-02-22T15:14:13.817808Z",
     "iopub.status.idle": "2022-02-22T15:14:15.164503Z",
     "shell.execute_reply": "2022-02-22T15:14:15.165216Z",
     "shell.execute_reply.started": "2021-10-01T21:08:58.523317Z"
    },
    "papermill": {
     "duration": 1.396212,
     "end_time": "2022-02-22T15:14:15.165491",
     "exception": false,
     "start_time": "2022-02-22T15:14:13.769279",
     "status": "completed"
    },
    "tags": []
   },
   "outputs": [
    {
     "name": "stdout",
     "output_type": "stream",
     "text": [
      "MAE (Imputation):\n",
      "18062.894611872147\n"
     ]
    }
   ],
   "source": [
    "print(\"MAE (Imputation):\")\n",
    "print(score_dataset(imputed_X_train, imputed_X_valid, y_train, y_valid))"
   ]
  },
  {
   "cell_type": "markdown",
   "id": "6b4bf040",
   "metadata": {
    "papermill": {
     "duration": 0.042347,
     "end_time": "2022-02-22T15:14:15.254590",
     "exception": false,
     "start_time": "2022-02-22T15:14:15.212243",
     "status": "completed"
    },
    "tags": []
   },
   "source": [
    "### Part B\n",
    "\n",
    "Compare the MAE from each approach.  Does anything surprise you about the results?  Why do you think one approach performed better than the other?"
   ]
  },
  {
   "cell_type": "code",
   "execution_count": 16,
   "id": "0e54dadd",
   "metadata": {
    "execution": {
     "iopub.execute_input": "2022-02-22T15:14:15.345524Z",
     "iopub.status.busy": "2022-02-22T15:14:15.344828Z",
     "iopub.status.idle": "2022-02-22T15:14:15.350602Z",
     "shell.execute_reply": "2022-02-22T15:14:15.350001Z"
    },
    "papermill": {
     "duration": 0.052897,
     "end_time": "2022-02-22T15:14:15.350749",
     "exception": false,
     "start_time": "2022-02-22T15:14:15.297852",
     "status": "completed"
    },
    "tags": []
   },
   "outputs": [
    {
     "data": {
      "application/javascript": [
       "parent.postMessage({\"jupyterEvent\": \"custom.exercise_interaction\", \"data\": {\"outcomeType\": 1, \"valueTowardsCompletion\": 1.0, \"interactionType\": 1, \"questionType\": 4, \"questionId\": \"3.2_ImputeThought\", \"learnToolsVersion\": \"0.3.4\", \"failureMessage\": \"\", \"exceptionClass\": \"\", \"trace\": \"\"}}, \"*\")"
      ],
      "text/plain": [
       "<IPython.core.display.Javascript object>"
      ]
     },
     "metadata": {},
     "output_type": "display_data"
    },
    {
     "data": {
      "text/markdown": [
       "<span style=\"color:#33cc33\">Correct:</span> \n",
       "\n",
       "Given that thre are so few missing values in the dataset, we'd expect imputation to perform better than dropping columns entirely.  However, we see that dropping columns performs slightly better!  While this can probably partially be attributed to noise in the dataset, another potential explanation is that the imputation method is not a great match to this dataset.  That is, maybe instead of filling in the mean value, it makes more sense to set every missing value to a value of 0, to fill in the most frequently encountered value, or to use some other method.  For instance, consider the `GarageYrBlt` column (which indicates the year that the garage was built).  It's likely that in some cases, a missing value could indicate a house that does not have a garage.  Does it make more sense to fill in the median value along each column in this case?  Or could we get better results by filling in the minimum value along each column?  It's not quite clear what's best in this case, but perhaps we can rule out some options immediately - for instance, setting missing values in this column to 0 is likely to yield horrible results!"
      ],
      "text/plain": [
       "Correct: \n",
       "\n",
       "Given that thre are so few missing values in the dataset, we'd expect imputation to perform better than dropping columns entirely.  However, we see that dropping columns performs slightly better!  While this can probably partially be attributed to noise in the dataset, another potential explanation is that the imputation method is not a great match to this dataset.  That is, maybe instead of filling in the mean value, it makes more sense to set every missing value to a value of 0, to fill in the most frequently encountered value, or to use some other method.  For instance, consider the `GarageYrBlt` column (which indicates the year that the garage was built).  It's likely that in some cases, a missing value could indicate a house that does not have a garage.  Does it make more sense to fill in the median value along each column in this case?  Or could we get better results by filling in the minimum value along each column?  It's not quite clear what's best in this case, but perhaps we can rule out some options immediately - for instance, setting missing values in this column to 0 is likely to yield horrible results!"
      ]
     },
     "metadata": {},
     "output_type": "display_data"
    }
   ],
   "source": [
    "# Check your answer (Run this code cell to receive credit!)\n",
    "step_3.b.check()"
   ]
  },
  {
   "cell_type": "code",
   "execution_count": 17,
   "id": "15d81861",
   "metadata": {
    "execution": {
     "iopub.execute_input": "2022-02-22T15:14:15.443786Z",
     "iopub.status.busy": "2022-02-22T15:14:15.443084Z",
     "iopub.status.idle": "2022-02-22T15:14:15.445840Z",
     "shell.execute_reply": "2022-02-22T15:14:15.446374Z"
    },
    "papermill": {
     "duration": 0.051766,
     "end_time": "2022-02-22T15:14:15.446577",
     "exception": false,
     "start_time": "2022-02-22T15:14:15.394811",
     "status": "completed"
    },
    "tags": []
   },
   "outputs": [],
   "source": [
    "#step_3.b.hint()"
   ]
  },
  {
   "cell_type": "markdown",
   "id": "a4499ceb",
   "metadata": {
    "papermill": {
     "duration": 0.043933,
     "end_time": "2022-02-22T15:14:15.535899",
     "exception": false,
     "start_time": "2022-02-22T15:14:15.491966",
     "status": "completed"
    },
    "tags": []
   },
   "source": [
    "# Step 4: Generate test predictions\n",
    "\n",
    "In this final step, you'll use any approach of your choosing to deal with missing values.  Once you've preprocessed the training and validation features, you'll train and evaluate a random forest model.  Then, you'll preprocess the test data before generating predictions that can be submitted to the competition!\n",
    "\n",
    "### Part A\n",
    "\n",
    "Use the next code cell to preprocess the training and validation data.  Set the preprocessed DataFrames to `final_X_train` and `final_X_valid`.  **You can use any approach of your choosing here!**  in order for this step to be marked as correct, you need only ensure:\n",
    "- the preprocessed DataFrames have the same number of columns,\n",
    "- the preprocessed DataFrames have no missing values, \n",
    "- `final_X_train` and `y_train` have the same number of rows, and\n",
    "- `final_X_valid` and `y_valid` have the same number of rows."
   ]
  },
  {
   "cell_type": "code",
   "execution_count": 18,
   "id": "2ae1a422",
   "metadata": {
    "execution": {
     "iopub.execute_input": "2022-02-22T15:14:15.628257Z",
     "iopub.status.busy": "2022-02-22T15:14:15.627514Z",
     "iopub.status.idle": "2022-02-22T15:14:15.658712Z",
     "shell.execute_reply": "2022-02-22T15:14:15.659213Z",
     "shell.execute_reply.started": "2021-10-01T21:22:03.952366Z"
    },
    "papermill": {
     "duration": 0.079605,
     "end_time": "2022-02-22T15:14:15.659407",
     "exception": false,
     "start_time": "2022-02-22T15:14:15.579802",
     "status": "completed"
    },
    "tags": []
   },
   "outputs": [
    {
     "data": {
      "application/javascript": [
       "parent.postMessage({\"jupyterEvent\": \"custom.exercise_interaction\", \"data\": {\"outcomeType\": 1, \"valueTowardsCompletion\": 1.0, \"interactionType\": 1, \"questionType\": 2, \"questionId\": \"4.1_PredsCodeA\", \"learnToolsVersion\": \"0.3.4\", \"failureMessage\": \"\", \"exceptionClass\": \"\", \"trace\": \"\"}}, \"*\")"
      ],
      "text/plain": [
       "<IPython.core.display.Javascript object>"
      ]
     },
     "metadata": {},
     "output_type": "display_data"
    },
    {
     "data": {
      "text/markdown": [
       "<span style=\"color:#33cc33\">Correct</span>"
      ],
      "text/plain": [
       "Correct"
      ]
     },
     "metadata": {},
     "output_type": "display_data"
    }
   ],
   "source": [
    "# Preprocessed training and validation features\n",
    "final_imputer = SimpleImputer(strategy = 'median')\n",
    "final_X_train = pd.DataFrame(final_imputer.fit_transform(X_train))\n",
    "final_X_valid = pd.DataFrame(final_imputer.transform(X_valid))\n",
    "\n",
    "final_X_train.columns = X_train.columns\n",
    "final_X_valid.columns = X_valid.columns\n",
    "\n",
    "# Check your answers\n",
    "step_4.a.check()"
   ]
  },
  {
   "cell_type": "code",
   "execution_count": 19,
   "id": "eb09c913",
   "metadata": {
    "execution": {
     "iopub.execute_input": "2022-02-22T15:14:15.754874Z",
     "iopub.status.busy": "2022-02-22T15:14:15.753875Z",
     "iopub.status.idle": "2022-02-22T15:14:15.764942Z",
     "shell.execute_reply": "2022-02-22T15:14:15.765662Z",
     "shell.execute_reply.started": "2021-10-01T21:17:59.428779Z"
    },
    "papermill": {
     "duration": 0.060448,
     "end_time": "2022-02-22T15:14:15.765845",
     "exception": false,
     "start_time": "2022-02-22T15:14:15.705397",
     "status": "completed"
    },
    "tags": []
   },
   "outputs": [
    {
     "data": {
      "application/javascript": [
       "parent.postMessage({\"jupyterEvent\": \"custom.exercise_interaction\", \"data\": {\"interactionType\": 2, \"questionType\": 2, \"questionId\": \"4.1_PredsCodeA\", \"learnToolsVersion\": \"0.3.4\", \"valueTowardsCompletion\": 0.0, \"failureMessage\": \"\", \"exceptionClass\": \"\", \"trace\": \"\", \"outcomeType\": 4}}, \"*\")"
      ],
      "text/plain": [
       "<IPython.core.display.Javascript object>"
      ]
     },
     "metadata": {},
     "output_type": "display_data"
    },
    {
     "data": {
      "text/markdown": [
       "<span style=\"color:#3366cc\">Hint:</span> Use any approach of your choosing to deal with missing values in the data.  For inspiration, check out the code from the tutorial!"
      ],
      "text/plain": [
       "Hint: Use any approach of your choosing to deal with missing values in the data.  For inspiration, check out the code from the tutorial!"
      ]
     },
     "metadata": {},
     "output_type": "display_data"
    },
    {
     "data": {
      "application/javascript": [
       "parent.postMessage({\"jupyterEvent\": \"custom.exercise_interaction\", \"data\": {\"interactionType\": 3, \"questionType\": 2, \"questionId\": \"4.1_PredsCodeA\", \"learnToolsVersion\": \"0.3.4\", \"valueTowardsCompletion\": 0.0, \"failureMessage\": \"\", \"exceptionClass\": \"\", \"trace\": \"\", \"outcomeType\": 4}}, \"*\")"
      ],
      "text/plain": [
       "<IPython.core.display.Javascript object>"
      ]
     },
     "metadata": {},
     "output_type": "display_data"
    },
    {
     "data": {
      "text/markdown": [
       "<span style=\"color:#33cc99\">Solution:</span> \n",
       "```python\n",
       "# Imputation\n",
       "final_imputer = SimpleImputer(strategy='median')\n",
       "final_X_train = pd.DataFrame(final_imputer.fit_transform(X_train))\n",
       "final_X_valid = pd.DataFrame(final_imputer.transform(X_valid))\n",
       "\n",
       "# Imputation removed column names; put them back\n",
       "final_X_train.columns = X_train.columns\n",
       "final_X_valid.columns = X_valid.columns\n",
       "\n",
       "```"
      ],
      "text/plain": [
       "Solution: \n",
       "```python\n",
       "# Imputation\n",
       "final_imputer = SimpleImputer(strategy='median')\n",
       "final_X_train = pd.DataFrame(final_imputer.fit_transform(X_train))\n",
       "final_X_valid = pd.DataFrame(final_imputer.transform(X_valid))\n",
       "\n",
       "# Imputation removed column names; put them back\n",
       "final_X_train.columns = X_train.columns\n",
       "final_X_valid.columns = X_valid.columns\n",
       "\n",
       "```"
      ]
     },
     "metadata": {},
     "output_type": "display_data"
    }
   ],
   "source": [
    "# Lines below will give you a hint or solution code\n",
    "step_4.a.hint()\n",
    "step_4.a.solution()"
   ]
  },
  {
   "cell_type": "markdown",
   "id": "a53da13d",
   "metadata": {
    "papermill": {
     "duration": 0.047264,
     "end_time": "2022-02-22T15:14:15.861535",
     "exception": false,
     "start_time": "2022-02-22T15:14:15.814271",
     "status": "completed"
    },
    "tags": []
   },
   "source": [
    "Run the next code cell to train and evaluate a random forest model.  (*Note that we don't use the `score_dataset()` function above, because we will soon use the trained model to generate test predictions!*)"
   ]
  },
  {
   "cell_type": "code",
   "execution_count": 20,
   "id": "19c2b469",
   "metadata": {
    "execution": {
     "iopub.execute_input": "2022-02-22T15:14:15.959887Z",
     "iopub.status.busy": "2022-02-22T15:14:15.959160Z",
     "iopub.status.idle": "2022-02-22T15:14:17.314084Z",
     "shell.execute_reply": "2022-02-22T15:14:17.314802Z",
     "shell.execute_reply.started": "2021-10-01T21:22:23.947369Z"
    },
    "papermill": {
     "duration": 1.406039,
     "end_time": "2022-02-22T15:14:17.315054",
     "exception": false,
     "start_time": "2022-02-22T15:14:15.909015",
     "status": "completed"
    },
    "tags": []
   },
   "outputs": [
    {
     "name": "stdout",
     "output_type": "stream",
     "text": [
      "MAE (Your approach):\n",
      "17791.59899543379\n"
     ]
    }
   ],
   "source": [
    "# Define and fit model\n",
    "model = RandomForestRegressor(n_estimators=100, random_state=0)\n",
    "model.fit(final_X_train, y_train)\n",
    "\n",
    "# Get validation predictions and MAE\n",
    "preds_valid = model.predict(final_X_valid)\n",
    "print(\"MAE (Your approach):\")\n",
    "print(mean_absolute_error(y_valid, preds_valid))"
   ]
  },
  {
   "cell_type": "markdown",
   "id": "51ec7739",
   "metadata": {
    "papermill": {
     "duration": 0.048985,
     "end_time": "2022-02-22T15:14:17.412587",
     "exception": false,
     "start_time": "2022-02-22T15:14:17.363602",
     "status": "completed"
    },
    "tags": []
   },
   "source": [
    "### Part B\n",
    "\n",
    "Use the next code cell to preprocess your test data.  Make sure that you use a method that agrees with how you preprocessed the training and validation data, and set the preprocessed test features to `final_X_test`.\n",
    "\n",
    "Then, use the preprocessed test features and the trained model to generate test predictions in `preds_test`.\n",
    "\n",
    "In order for this step to be marked correct, you need only ensure:\n",
    "- the preprocessed test DataFrame has no missing values, and\n",
    "- `final_X_test` has the same number of rows as `X_test`."
   ]
  },
  {
   "cell_type": "code",
   "execution_count": 21,
   "id": "e4d9926e",
   "metadata": {
    "execution": {
     "iopub.execute_input": "2022-02-22T15:14:17.524343Z",
     "iopub.status.busy": "2022-02-22T15:14:17.523058Z",
     "iopub.status.idle": "2022-02-22T15:14:17.580368Z",
     "shell.execute_reply": "2022-02-22T15:14:17.581066Z",
     "shell.execute_reply.started": "2021-10-01T21:28:05.446205Z"
    },
    "papermill": {
     "duration": 0.118005,
     "end_time": "2022-02-22T15:14:17.581372",
     "exception": false,
     "start_time": "2022-02-22T15:14:17.463367",
     "status": "completed"
    },
    "tags": []
   },
   "outputs": [
    {
     "data": {
      "application/javascript": [
       "parent.postMessage({\"jupyterEvent\": \"custom.exercise_interaction\", \"data\": {\"outcomeType\": 1, \"valueTowardsCompletion\": 1.0, \"interactionType\": 1, \"questionType\": 2, \"questionId\": \"4.2_PredsCodeB\", \"learnToolsVersion\": \"0.3.4\", \"failureMessage\": \"\", \"exceptionClass\": \"\", \"trace\": \"\"}}, \"*\")"
      ],
      "text/plain": [
       "<IPython.core.display.Javascript object>"
      ]
     },
     "metadata": {},
     "output_type": "display_data"
    },
    {
     "data": {
      "text/markdown": [
       "<span style=\"color:#33cc33\">Correct</span>"
      ],
      "text/plain": [
       "Correct"
      ]
     },
     "metadata": {},
     "output_type": "display_data"
    }
   ],
   "source": [
    "# Fill in the line below: preprocess test data\n",
    "final_X_test = pd.DataFrame(final_imputer.transform(X_test))\n",
    "final_X_test.columns = X_test.columns\n",
    "\n",
    "# Fill in the line below: get test predictions\n",
    "preds_test = model.predict(final_X_test)\n",
    "\n",
    "# Check your answers\n",
    "step_4.b.check()"
   ]
  },
  {
   "cell_type": "code",
   "execution_count": 22,
   "id": "c5495512",
   "metadata": {
    "execution": {
     "iopub.execute_input": "2022-02-22T15:14:17.697402Z",
     "iopub.status.busy": "2022-02-22T15:14:17.696398Z",
     "iopub.status.idle": "2022-02-22T15:14:17.698430Z",
     "shell.execute_reply": "2022-02-22T15:14:17.699192Z"
    },
    "papermill": {
     "duration": 0.062363,
     "end_time": "2022-02-22T15:14:17.699430",
     "exception": false,
     "start_time": "2022-02-22T15:14:17.637067",
     "status": "completed"
    },
    "tags": []
   },
   "outputs": [],
   "source": [
    "# Lines below will give you a hint or solution code\n",
    "#step_4.b.hint()\n",
    "#step_4.b.solution()"
   ]
  },
  {
   "cell_type": "markdown",
   "id": "290f847f",
   "metadata": {
    "papermill": {
     "duration": 0.053328,
     "end_time": "2022-02-22T15:14:17.830768",
     "exception": false,
     "start_time": "2022-02-22T15:14:17.777440",
     "status": "completed"
    },
    "tags": []
   },
   "source": [
    "Run the next code cell without changes to save your results to a CSV file that can be submitted directly to the competition."
   ]
  },
  {
   "cell_type": "code",
   "execution_count": 23,
   "id": "c27587aa",
   "metadata": {
    "execution": {
     "iopub.execute_input": "2022-02-22T15:14:17.950302Z",
     "iopub.status.busy": "2022-02-22T15:14:17.949288Z",
     "iopub.status.idle": "2022-02-22T15:14:17.961522Z",
     "shell.execute_reply": "2022-02-22T15:14:17.962531Z",
     "shell.execute_reply.started": "2021-10-01T21:28:22.40417Z"
    },
    "papermill": {
     "duration": 0.074885,
     "end_time": "2022-02-22T15:14:17.962807",
     "exception": false,
     "start_time": "2022-02-22T15:14:17.887922",
     "status": "completed"
    },
    "tags": []
   },
   "outputs": [],
   "source": [
    "# Save test predictions to file\n",
    "output = pd.DataFrame({'Id': X_test.index,\n",
    "                       'SalePrice': preds_test})\n",
    "output.to_csv('submission.csv', index=False)\n"
   ]
  },
  {
   "cell_type": "code",
   "execution_count": 24,
   "id": "09c086e6",
   "metadata": {
    "execution": {
     "iopub.execute_input": "2022-02-22T15:14:18.095207Z",
     "iopub.status.busy": "2022-02-22T15:14:18.094169Z",
     "iopub.status.idle": "2022-02-22T15:14:18.105881Z",
     "shell.execute_reply": "2022-02-22T15:14:18.107162Z",
     "shell.execute_reply.started": "2021-10-01T21:28:34.664038Z"
    },
    "papermill": {
     "duration": 0.073208,
     "end_time": "2022-02-22T15:14:18.107437",
     "exception": false,
     "start_time": "2022-02-22T15:14:18.034229",
     "status": "completed"
    },
    "tags": []
   },
   "outputs": [
    {
     "name": "stdout",
     "output_type": "stream",
     "text": [
      "        Id  SalePrice\n",
      "0     1461  125985.50\n",
      "1     1462  154599.50\n",
      "2     1463  180070.24\n",
      "3     1464  183544.50\n",
      "4     1465  197549.92\n",
      "...    ...        ...\n",
      "1454  2915   87437.12\n",
      "1455  2916   86994.50\n",
      "1456  2917  154751.44\n",
      "1457  2918  107387.00\n",
      "1458  2919  229281.55\n",
      "\n",
      "[1459 rows x 2 columns]\n"
     ]
    }
   ],
   "source": [
    "print(output)"
   ]
  },
  {
   "cell_type": "markdown",
   "id": "1b098d2f",
   "metadata": {
    "papermill": {
     "duration": 0.05911,
     "end_time": "2022-02-22T15:14:18.239487",
     "exception": false,
     "start_time": "2022-02-22T15:14:18.180377",
     "status": "completed"
    },
    "tags": []
   },
   "source": [
    "# Submit your results\n",
    "\n",
    "Once you have successfully completed Step 4, you're ready to submit your results to the leaderboard!  (_You also learned how to do this in the previous exercise.  If you need a reminder of how to do this, please use the instructions below._)  \n",
    "\n",
    "First, you'll need to join the competition if you haven't already.  So open a new window by clicking on [this link](https://www.kaggle.com/c/home-data-for-ml-course).  Then click on the **Join Competition** button.\n",
    "\n",
    "![join competition image](https://i.imgur.com/wLmFtH3.png)\n",
    "\n",
    "Next, follow the instructions below:\n",
    "1. Begin by clicking on the **Save Version** button in the top right corner of the window.  This will generate a pop-up window.  \n",
    "2. Ensure that the **Save and Run All** option is selected, and then click on the **Save** button.\n",
    "3. This generates a window in the bottom left corner of the notebook.  After it has finished running, click on the number to the right of the **Save Version** button.  This pulls up a list of versions on the right of the screen.  Click on the ellipsis **(...)** to the right of the most recent version, and select **Open in Viewer**.  This brings you into view mode of the same page. You will need to scroll down to get back to these instructions.\n",
    "4. Click on the **Output** tab on the right of the screen.  Then, click on the file you would like to submit, and click on the **Submit** button to submit your results to the leaderboard.\n",
    "\n",
    "You have now successfully submitted to the competition!\n",
    "\n",
    "If you want to keep working to improve your performance, select the **Edit** button in the top right of the screen. Then you can change your code and repeat the process. There's a lot of room to improve, and you will climb up the leaderboard as you work.\n",
    "\n",
    "\n",
    "# Keep going\n",
    "\n",
    "Move on to learn what **[categorical variables](https://www.kaggle.com/alexisbcook/categorical-variables)** are, along with how to incorporate them into your machine learning models.  Categorical variables are very common in real-world data, but you'll get an error if you try to plug them into your models without processing them first!"
   ]
  }
 ],
 "metadata": {
  "kernelspec": {
   "display_name": "Python 3",
   "language": "python",
   "name": "python3"
  },
  "language_info": {
   "codemirror_mode": {
    "name": "ipython",
    "version": 3
   },
   "file_extension": ".py",
   "mimetype": "text/x-python",
   "name": "python",
   "nbconvert_exporter": "python",
   "pygments_lexer": "ipython3",
   "version": "3.7.12"
  },
  "papermill": {
   "default_parameters": {},
   "duration": 21.650832,
   "end_time": "2022-02-22T15:14:19.002836",
   "environment_variables": {},
   "exception": null,
   "input_path": "__notebook__.ipynb",
   "output_path": "__notebook__.ipynb",
   "parameters": {},
   "start_time": "2022-02-22T15:13:57.352004",
   "version": "2.3.3"
  }
 },
 "nbformat": 4,
 "nbformat_minor": 5
}
